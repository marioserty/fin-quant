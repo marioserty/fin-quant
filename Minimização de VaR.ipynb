{
 "cells": [
  {
   "cell_type": "code",
   "execution_count": 1,
   "metadata": {},
   "outputs": [],
   "source": [
    "import pandas as pd\n",
    "import numpy as np\n",
    "from docplex.mp.model import Model"
   ]
  },
  {
   "cell_type": "markdown",
   "metadata": {},
   "source": [
    "# Minimização de VaR\n",
    "\n",
    "Páginas 18 e 19 dos slides de Downside Risk"
   ]
  },
  {
   "cell_type": "code",
   "execution_count": 2,
   "metadata": {},
   "outputs": [
    {
     "data": {
      "text/html": [
       "<div>\n",
       "<style scoped>\n",
       "    .dataframe tbody tr th:only-of-type {\n",
       "        vertical-align: middle;\n",
       "    }\n",
       "\n",
       "    .dataframe tbody tr th {\n",
       "        vertical-align: top;\n",
       "    }\n",
       "\n",
       "    .dataframe thead th {\n",
       "        text-align: right;\n",
       "    }\n",
       "</style>\n",
       "<table border=\"1\" class=\"dataframe\">\n",
       "  <thead>\n",
       "    <tr style=\"text-align: right;\">\n",
       "      <th></th>\n",
       "      <th>BOVA11</th>\n",
       "      <th>ABEV3</th>\n",
       "      <th>AZUL4</th>\n",
       "      <th>BTOW3</th>\n",
       "      <th>B3SA3</th>\n",
       "      <th>BBAS3</th>\n",
       "      <th>BBSE3</th>\n",
       "      <th>BRML3</th>\n",
       "      <th>BBDC3</th>\n",
       "      <th>BBDC4</th>\n",
       "      <th>...</th>\n",
       "      <th>SANB11</th>\n",
       "      <th>CSNA3</th>\n",
       "      <th>SULA11</th>\n",
       "      <th>SUZB3</th>\n",
       "      <th>TAEE11</th>\n",
       "      <th>TIMP3</th>\n",
       "      <th>TOTS3</th>\n",
       "      <th>USIM5</th>\n",
       "      <th>VALE3</th>\n",
       "      <th>WEGE3</th>\n",
       "    </tr>\n",
       "    <tr>\n",
       "      <th>Date</th>\n",
       "      <th></th>\n",
       "      <th></th>\n",
       "      <th></th>\n",
       "      <th></th>\n",
       "      <th></th>\n",
       "      <th></th>\n",
       "      <th></th>\n",
       "      <th></th>\n",
       "      <th></th>\n",
       "      <th></th>\n",
       "      <th></th>\n",
       "      <th></th>\n",
       "      <th></th>\n",
       "      <th></th>\n",
       "      <th></th>\n",
       "      <th></th>\n",
       "      <th></th>\n",
       "      <th></th>\n",
       "      <th></th>\n",
       "      <th></th>\n",
       "      <th></th>\n",
       "    </tr>\n",
       "  </thead>\n",
       "  <tbody>\n",
       "    <tr>\n",
       "      <td>2019-01-03</td>\n",
       "      <td>0.001138</td>\n",
       "      <td>0.010801</td>\n",
       "      <td>0.001101</td>\n",
       "      <td>0.010151</td>\n",
       "      <td>0.043413</td>\n",
       "      <td>0.004174</td>\n",
       "      <td>0.010940</td>\n",
       "      <td>0.006354</td>\n",
       "      <td>0.020850</td>\n",
       "      <td>0.010115</td>\n",
       "      <td>...</td>\n",
       "      <td>0.033004</td>\n",
       "      <td>0.011641</td>\n",
       "      <td>-0.026868</td>\n",
       "      <td>-0.042693</td>\n",
       "      <td>0.002741</td>\n",
       "      <td>-0.006029</td>\n",
       "      <td>0.023256</td>\n",
       "      <td>-0.022082</td>\n",
       "      <td>-0.040788</td>\n",
       "      <td>0.022753</td>\n",
       "    </tr>\n",
       "    <tr>\n",
       "      <td>2019-01-04</td>\n",
       "      <td>0.005682</td>\n",
       "      <td>0.013828</td>\n",
       "      <td>-0.003299</td>\n",
       "      <td>-0.033185</td>\n",
       "      <td>-0.036179</td>\n",
       "      <td>0.000000</td>\n",
       "      <td>-0.010020</td>\n",
       "      <td>-0.018942</td>\n",
       "      <td>-0.021965</td>\n",
       "      <td>-0.007942</td>\n",
       "      <td>...</td>\n",
       "      <td>-0.000933</td>\n",
       "      <td>0.046030</td>\n",
       "      <td>-0.045008</td>\n",
       "      <td>0.016689</td>\n",
       "      <td>0.039636</td>\n",
       "      <td>0.005199</td>\n",
       "      <td>0.027893</td>\n",
       "      <td>0.059140</td>\n",
       "      <td>0.064935</td>\n",
       "      <td>0.011680</td>\n",
       "    </tr>\n",
       "    <tr>\n",
       "      <td>2019-01-07</td>\n",
       "      <td>-0.000226</td>\n",
       "      <td>-0.004340</td>\n",
       "      <td>-0.026207</td>\n",
       "      <td>-0.044235</td>\n",
       "      <td>-0.005255</td>\n",
       "      <td>-0.006563</td>\n",
       "      <td>-0.014575</td>\n",
       "      <td>-0.006436</td>\n",
       "      <td>0.008668</td>\n",
       "      <td>0.011834</td>\n",
       "      <td>...</td>\n",
       "      <td>0.016573</td>\n",
       "      <td>0.002200</td>\n",
       "      <td>0.016238</td>\n",
       "      <td>-0.045748</td>\n",
       "      <td>-0.011394</td>\n",
       "      <td>0.032759</td>\n",
       "      <td>-0.022111</td>\n",
       "      <td>0.002030</td>\n",
       "      <td>-0.005311</td>\n",
       "      <td>-0.015943</td>\n",
       "    </tr>\n",
       "    <tr>\n",
       "      <td>2019-01-08</td>\n",
       "      <td>0.003956</td>\n",
       "      <td>-0.019925</td>\n",
       "      <td>-0.016431</td>\n",
       "      <td>0.046282</td>\n",
       "      <td>0.002642</td>\n",
       "      <td>-0.011231</td>\n",
       "      <td>-0.014790</td>\n",
       "      <td>0.001619</td>\n",
       "      <td>0.010937</td>\n",
       "      <td>0.006192</td>\n",
       "      <td>...</td>\n",
       "      <td>-0.007348</td>\n",
       "      <td>0.003293</td>\n",
       "      <td>0.022993</td>\n",
       "      <td>0.009870</td>\n",
       "      <td>-0.006206</td>\n",
       "      <td>0.037563</td>\n",
       "      <td>-0.040082</td>\n",
       "      <td>-0.028369</td>\n",
       "      <td>0.009690</td>\n",
       "      <td>-0.007821</td>\n",
       "    </tr>\n",
       "    <tr>\n",
       "      <td>2019-01-09</td>\n",
       "      <td>0.016774</td>\n",
       "      <td>0.013977</td>\n",
       "      <td>0.012385</td>\n",
       "      <td>0.066232</td>\n",
       "      <td>0.004893</td>\n",
       "      <td>-0.002895</td>\n",
       "      <td>-0.031693</td>\n",
       "      <td>0.016168</td>\n",
       "      <td>0.020866</td>\n",
       "      <td>0.017094</td>\n",
       "      <td>...</td>\n",
       "      <td>0.013879</td>\n",
       "      <td>0.007659</td>\n",
       "      <td>0.009524</td>\n",
       "      <td>0.059760</td>\n",
       "      <td>0.000000</td>\n",
       "      <td>0.012068</td>\n",
       "      <td>0.038544</td>\n",
       "      <td>0.033368</td>\n",
       "      <td>0.024285</td>\n",
       "      <td>0.010698</td>\n",
       "    </tr>\n",
       "  </tbody>\n",
       "</table>\n",
       "<p>5 rows × 71 columns</p>\n",
       "</div>"
      ],
      "text/plain": [
       "              BOVA11     ABEV3     AZUL4     BTOW3     B3SA3     BBAS3  \\\n",
       "Date                                                                     \n",
       "2019-01-03  0.001138  0.010801  0.001101  0.010151  0.043413  0.004174   \n",
       "2019-01-04  0.005682  0.013828 -0.003299 -0.033185 -0.036179  0.000000   \n",
       "2019-01-07 -0.000226 -0.004340 -0.026207 -0.044235 -0.005255 -0.006563   \n",
       "2019-01-08  0.003956 -0.019925 -0.016431  0.046282  0.002642 -0.011231   \n",
       "2019-01-09  0.016774  0.013977  0.012385  0.066232  0.004893 -0.002895   \n",
       "\n",
       "               BBSE3     BRML3     BBDC3     BBDC4  ...    SANB11     CSNA3  \\\n",
       "Date                                                ...                       \n",
       "2019-01-03  0.010940  0.006354  0.020850  0.010115  ...  0.033004  0.011641   \n",
       "2019-01-04 -0.010020 -0.018942 -0.021965 -0.007942  ... -0.000933  0.046030   \n",
       "2019-01-07 -0.014575 -0.006436  0.008668  0.011834  ...  0.016573  0.002200   \n",
       "2019-01-08 -0.014790  0.001619  0.010937  0.006192  ... -0.007348  0.003293   \n",
       "2019-01-09 -0.031693  0.016168  0.020866  0.017094  ...  0.013879  0.007659   \n",
       "\n",
       "              SULA11     SUZB3    TAEE11     TIMP3     TOTS3     USIM5  \\\n",
       "Date                                                                     \n",
       "2019-01-03 -0.026868 -0.042693  0.002741 -0.006029  0.023256 -0.022082   \n",
       "2019-01-04 -0.045008  0.016689  0.039636  0.005199  0.027893  0.059140   \n",
       "2019-01-07  0.016238 -0.045748 -0.011394  0.032759 -0.022111  0.002030   \n",
       "2019-01-08  0.022993  0.009870 -0.006206  0.037563 -0.040082 -0.028369   \n",
       "2019-01-09  0.009524  0.059760  0.000000  0.012068  0.038544  0.033368   \n",
       "\n",
       "               VALE3     WEGE3  \n",
       "Date                            \n",
       "2019-01-03 -0.040788  0.022753  \n",
       "2019-01-04  0.064935  0.011680  \n",
       "2019-01-07 -0.005311 -0.015943  \n",
       "2019-01-08  0.009690 -0.007821  \n",
       "2019-01-09  0.024285  0.010698  \n",
       "\n",
       "[5 rows x 71 columns]"
      ]
     },
     "execution_count": 2,
     "metadata": {},
     "output_type": "execute_result"
    }
   ],
   "source": [
    "# Obtendo retorno dos ativos a partir dos preços\n",
    "df_prices = pd.read_csv('../data/IBOV.csv', parse_dates=['Date'], index_col='Date')\n",
    "df_returns = df_prices.loc['2019':].pct_change().dropna().drop('IBOV', axis=1) # Remove índice bovespa\n",
    "df_returns.head()"
   ]
  },
  {
   "cell_type": "code",
   "execution_count": 3,
   "metadata": {},
   "outputs": [],
   "source": [
    "# utilizei um período menor pois o modelo leva um tempo para resolver\n",
    "in_sample = df_returns.loc['2019-10':'2019-12']\n",
    "out_of_sample = df_returns.loc['2020']"
   ]
  },
  {
   "cell_type": "markdown",
   "metadata": {},
   "source": [
    "## Constantes"
   ]
  },
  {
   "attachments": {
    "image.png": {
     "image/png": "[encoded data removed]"
    }
   },
   "cell_type": "markdown",
   "metadata": {},
   "source": [
    "![image.png](attachment:image.png)"
   ]
  },
  {
   "cell_type": "code",
   "execution_count": 4,
   "metadata": {},
   "outputs": [],
   "source": [
    "N = in_sample.shape[1] # Quantidade de ativos\n",
    "T = in_sample.shape[0] # Quantidade de cenários\n",
    "R = in_sample # A opção de R ser um DataFrame e não uma matriz é para preservar o nome das colunas\n",
    "p = [1/T for i in range(T)] # Cenários são equiprovávies\n",
    "u = [sum(p * R[ativo]) for ativo in R.columns]\n",
    "u_hat = 0.10\n",
    "alpha = 0.10\n",
    "M = 999_999\n",
    "epsilon = 1e-08"
   ]
  },
  {
   "cell_type": "code",
   "execution_count": 5,
   "metadata": {},
   "outputs": [
    {
     "name": "stdout",
     "output_type": "stream",
     "text": [
      "Quantidade de cenários: 61\n",
      "Quantidade de ativos: 71\n",
      "Quantidade de probabilidades: 61\n",
      "Quantidade de retornos esperados: 71\n"
     ]
    }
   ],
   "source": [
    "print(f\"Quantidade de cenários: {T}\")\n",
    "print(f\"Quantidade de ativos: {N}\")\n",
    "print(f\"Quantidade de probabilidades: {len(p)}\")\n",
    "print(f\"Quantidade de retornos esperados: {len(u)}\")"
   ]
  },
  {
   "cell_type": "markdown",
   "metadata": {},
   "source": [
    "## Variáveis de decisão"
   ]
  },
  {
   "attachments": {
    "image.png": {
     "image/png": "[encoded data removed]"
    }
   },
   "cell_type": "markdown",
   "metadata": {},
   "source": [
    "![image.png](attachment:image.png)"
   ]
  },
  {
   "cell_type": "code",
   "execution_count": 6,
   "metadata": {},
   "outputs": [],
   "source": [
    "from docplex.mp.model import Model\n",
    "\n",
    "model = Model()\n",
    "w = model.continuous_var_list(keys=R.columns, name='w', ub=1, lb=0)\n",
    "z = model.binary_var_list(keys=R.index, name='z')\n",
    "Y = model.continuous_var(name='Y')\n",
    "\n",
    "# Neste modelo de otimização é possível dar nomes aos índices das variáveis de decisão,\n",
    "# por esse motivo as keys (chaves) aqui são os nomes das colunas (ativos) nos pesos 'w' e as datas no 'z'"
   ]
  },
  {
   "cell_type": "markdown",
   "metadata": {},
   "source": [
    "## Função objetivo e restrições"
   ]
  },
  {
   "attachments": {
    "image.png": {
     "image/png": "[encoded data removed]"
    }
   },
   "cell_type": "markdown",
   "metadata": {},
   "source": [
    "![image.png](attachment:image.png)"
   ]
  },
  {
   "cell_type": "code",
   "execution_count": 7,
   "metadata": {},
   "outputs": [
    {
     "data": {
      "text/plain": [
       "docplex.mp.SolveDetails(time=0.349367,status='integer optimal, tolerance')"
      ]
     },
     "execution_count": 7,
     "metadata": {},
     "output_type": "execute_result"
    }
   ],
   "source": [
    "# Restrição do retorno médio do portfólio\n",
    "# model.add_constraint(model.sum([w[i] * u[i] for i in range(N)]) >= u_hat) # Desativada pois não encontra solução\n",
    "                                                                            # para os dados de entrada\n",
    "\n",
    "# Restrição do somátorio dos pesos\n",
    "model.add_constraint(model.sum(w) == 1)\n",
    "\n",
    "# Restrição do retorno do cenário menor que Y - Mzt\n",
    "for t in range(T):\n",
    "    model.add_constraint(\n",
    "        model.sum([R.values[t][i] * w[i] for i in range(N)]) >= (Y - (M*z[t]))\n",
    "    )\n",
    "    \n",
    "# Restrição do número de cenários que podem ter CVaR menor que alpha\n",
    "model.add_constraint(model.sum([(p[t] * z[t]) for t in range(T)]) <= (alpha - epsilon))\n",
    "\n",
    "# Função objetivo\n",
    "model.maximize(Y)\n",
    "\n",
    "# Resolvendo modelo\n",
    "model.solve()\n",
    "model.get_solve_details()"
   ]
  },
  {
   "cell_type": "markdown",
   "metadata": {},
   "source": [
    "## Conferindo solução"
   ]
  },
  {
   "cell_type": "code",
   "execution_count": 8,
   "metadata": {},
   "outputs": [
    {
     "data": {
      "text/plain": [
       "w_BBSE3     0.001709\n",
       "w_BRML3     0.100364\n",
       "w_BRAP4     0.017068\n",
       "w_BPAC11    0.095106\n",
       "w_CSAN3     0.005138\n",
       "w_ELET3     0.026731\n",
       "w_EMBR3     0.027949\n",
       "w_ENBR3     0.015391\n",
       "w_YDUQ3     0.036498\n",
       "w_FLRY3     0.123112\n",
       "w_GGBR4     0.050080\n",
       "w_GNDI3     0.006109\n",
       "w_BEEF3     0.027693\n",
       "w_MRVE3     0.008582\n",
       "w_BRDT3     0.077341\n",
       "w_SBSP3     0.006548\n",
       "w_SUZB3     0.022074\n",
       "w_TAEE11    0.248594\n",
       "w_TIMP3     0.084634\n",
       "w_WEGE3     0.019281\n",
       "dtype: float64"
      ]
     },
     "execution_count": 8,
     "metadata": {},
     "output_type": "execute_result"
    }
   ],
   "source": [
    "# Pandas series\n",
    "solution = pd.Series(\n",
    "    data=[w[i].solution_value for i in range(N)],\n",
    "    index=[w[i].get_name() for i in range(N)]\n",
    ")\n",
    "solution[(solution > 0) | (solution < 0)]"
   ]
  },
  {
   "cell_type": "code",
   "execution_count": 9,
   "metadata": {
    "scrolled": true
   },
   "outputs": [
    {
     "data": {
      "text/html": [
       "<div>\n",
       "<style scoped>\n",
       "    .dataframe tbody tr th:only-of-type {\n",
       "        vertical-align: middle;\n",
       "    }\n",
       "\n",
       "    .dataframe tbody tr th {\n",
       "        vertical-align: top;\n",
       "    }\n",
       "\n",
       "    .dataframe thead th {\n",
       "        text-align: right;\n",
       "    }\n",
       "</style>\n",
       "<table border=\"1\" class=\"dataframe\">\n",
       "  <thead>\n",
       "    <tr style=\"text-align: right;\">\n",
       "      <th></th>\n",
       "      <th>ativo</th>\n",
       "      <th>peso</th>\n",
       "    </tr>\n",
       "  </thead>\n",
       "  <tbody>\n",
       "    <tr>\n",
       "      <td>6</td>\n",
       "      <td>BBSE3</td>\n",
       "      <td>0.001709</td>\n",
       "    </tr>\n",
       "    <tr>\n",
       "      <td>7</td>\n",
       "      <td>BRML3</td>\n",
       "      <td>0.100364</td>\n",
       "    </tr>\n",
       "    <tr>\n",
       "      <td>10</td>\n",
       "      <td>BRAP4</td>\n",
       "      <td>0.017068</td>\n",
       "    </tr>\n",
       "    <tr>\n",
       "      <td>13</td>\n",
       "      <td>BPAC11</td>\n",
       "      <td>0.095106</td>\n",
       "    </tr>\n",
       "    <tr>\n",
       "      <td>20</td>\n",
       "      <td>CSAN3</td>\n",
       "      <td>0.005138</td>\n",
       "    </tr>\n",
       "    <tr>\n",
       "      <td>25</td>\n",
       "      <td>ELET3</td>\n",
       "      <td>0.026731</td>\n",
       "    </tr>\n",
       "    <tr>\n",
       "      <td>27</td>\n",
       "      <td>EMBR3</td>\n",
       "      <td>0.027949</td>\n",
       "    </tr>\n",
       "    <tr>\n",
       "      <td>28</td>\n",
       "      <td>ENBR3</td>\n",
       "      <td>0.015391</td>\n",
       "    </tr>\n",
       "    <tr>\n",
       "      <td>31</td>\n",
       "      <td>YDUQ3</td>\n",
       "      <td>0.036498</td>\n",
       "    </tr>\n",
       "    <tr>\n",
       "      <td>32</td>\n",
       "      <td>FLRY3</td>\n",
       "      <td>0.123112</td>\n",
       "    </tr>\n",
       "    <tr>\n",
       "      <td>34</td>\n",
       "      <td>GGBR4</td>\n",
       "      <td>0.050080</td>\n",
       "    </tr>\n",
       "    <tr>\n",
       "      <td>39</td>\n",
       "      <td>GNDI3</td>\n",
       "      <td>0.006109</td>\n",
       "    </tr>\n",
       "    <tr>\n",
       "      <td>50</td>\n",
       "      <td>BEEF3</td>\n",
       "      <td>0.027693</td>\n",
       "    </tr>\n",
       "    <tr>\n",
       "      <td>51</td>\n",
       "      <td>MRVE3</td>\n",
       "      <td>0.008582</td>\n",
       "    </tr>\n",
       "    <tr>\n",
       "      <td>54</td>\n",
       "      <td>BRDT3</td>\n",
       "      <td>0.077341</td>\n",
       "    </tr>\n",
       "    <tr>\n",
       "      <td>60</td>\n",
       "      <td>SBSP3</td>\n",
       "      <td>0.006548</td>\n",
       "    </tr>\n",
       "    <tr>\n",
       "      <td>64</td>\n",
       "      <td>SUZB3</td>\n",
       "      <td>0.022074</td>\n",
       "    </tr>\n",
       "    <tr>\n",
       "      <td>65</td>\n",
       "      <td>TAEE11</td>\n",
       "      <td>0.248594</td>\n",
       "    </tr>\n",
       "    <tr>\n",
       "      <td>66</td>\n",
       "      <td>TIMP3</td>\n",
       "      <td>0.084634</td>\n",
       "    </tr>\n",
       "    <tr>\n",
       "      <td>70</td>\n",
       "      <td>WEGE3</td>\n",
       "      <td>0.019281</td>\n",
       "    </tr>\n",
       "  </tbody>\n",
       "</table>\n",
       "</div>"
      ],
      "text/plain": [
       "     ativo      peso\n",
       "6    BBSE3  0.001709\n",
       "7    BRML3  0.100364\n",
       "10   BRAP4  0.017068\n",
       "13  BPAC11  0.095106\n",
       "20   CSAN3  0.005138\n",
       "25   ELET3  0.026731\n",
       "27   EMBR3  0.027949\n",
       "28   ENBR3  0.015391\n",
       "31   YDUQ3  0.036498\n",
       "32   FLRY3  0.123112\n",
       "34   GGBR4  0.050080\n",
       "39   GNDI3  0.006109\n",
       "50   BEEF3  0.027693\n",
       "51   MRVE3  0.008582\n",
       "54   BRDT3  0.077341\n",
       "60   SBSP3  0.006548\n",
       "64   SUZB3  0.022074\n",
       "65  TAEE11  0.248594\n",
       "66   TIMP3  0.084634\n",
       "70   WEGE3  0.019281"
      ]
     },
     "execution_count": 9,
     "metadata": {},
     "output_type": "execute_result"
    }
   ],
   "source": [
    "# DataFrame\n",
    "weights = pd.DataFrame()\n",
    "weights['ativo'] = R.columns\n",
    "weights['peso'] = [w[i].solution_value for i in range(N)]\n",
    "weights[weights['peso'] > 0]"
   ]
  },
  {
   "cell_type": "markdown",
   "metadata": {},
   "source": [
    "## Verificando retornos e VaR"
   ]
  },
  {
   "cell_type": "code",
   "execution_count": 10,
   "metadata": {},
   "outputs": [],
   "source": [
    "ativos = weights[weights['peso'] > 0]['ativo'].values\n",
    "pesos = weights[weights['peso'] > 0]['peso'].values\n",
    "rpt = in_sample[ativos].apply(lambda row: row * pesos, axis=1)\n",
    "rp = rpt.mean(axis=1)"
   ]
  },
  {
   "cell_type": "code",
   "execution_count": 16,
   "metadata": {},
   "outputs": [
    {
     "data": {
      "text/plain": [
       "<matplotlib.axes._subplots.AxesSubplot at 0x7fa9030a3550>"
      ]
     },
     "execution_count": 16,
     "metadata": {},
     "output_type": "execute_result"
    },
    {
     "data": {
      "image/png": "[encoded data removed]",
      "text/plain": [
       "<Figure size 432x288 with 1 Axes>"
      ]
     },
     "metadata": {},
     "output_type": "display_data"
    }
   ],
   "source": [
    "import matplotlib.pyplot as plt\n",
    "rp.add(1).cumprod().sub(1).plot()"
   ]
  },
  {
   "cell_type": "code",
   "execution_count": 17,
   "metadata": {},
   "outputs": [
    {
     "data": {
      "text/plain": [
       "4.581974393532545e-05"
      ]
     },
     "execution_count": 17,
     "metadata": {},
     "output_type": "execute_result"
    }
   ],
   "source": [
    "# VaR do portfólio alocado\n",
    "sorted(rp)[int(alpha * len(rp))]"
   ]
  },
  {
   "cell_type": "code",
   "execution_count": 18,
   "metadata": {
    "scrolled": true
   },
   "outputs": [
    {
     "data": {
      "text/plain": [
       "-0.007094402519643125"
      ]
     },
     "execution_count": 18,
     "metadata": {},
     "output_type": "execute_result"
    }
   ],
   "source": [
    "# VaR do portfolio definido pelo mercado\n",
    "rm = in_sample.mean(axis=1)\n",
    "rm.quantile(alpha)"
   ]
  },
  {
   "cell_type": "code",
   "execution_count": 19,
   "metadata": {},
   "outputs": [
    {
     "data": {
      "text/plain": [
       "-0.007625586974717602"
      ]
     },
     "execution_count": 19,
     "metadata": {},
     "output_type": "execute_result"
    }
   ],
   "source": [
    "ibov = pd.read_csv('../data/IBOV.csv', parse_dates=['Date'], index_col='Date')['IBOV'].pct_change()\n",
    "ibov = ibov.loc[in_sample.index]\n",
    "ibov.quantile(alpha)"
   ]
  },
  {
   "cell_type": "code",
   "execution_count": 20,
   "metadata": {},
   "outputs": [
    {
     "data": {
      "text/plain": [
       "<matplotlib.axes._subplots.AxesSubplot at 0x7fa902df69e8>"
      ]
     },
     "execution_count": 20,
     "metadata": {},
     "output_type": "execute_result"
    },
    {
     "data": {
      "image/png": "[encoded data removed]",
      "text/plain": [
       "<Figure size 432x288 with 1 Axes>"
      ]
     },
     "metadata": {},
     "output_type": "display_data"
    }
   ],
   "source": [
    "import seaborn as sns; sns.set_style('whitegrid')\n",
    "sns.distplot(ibov)"
   ]
  }
 ],
 "metadata": {
  "hide_input": false,
  "kernelspec": {
   "display_name": "Python 3",
   "language": "python",
   "name": "python3"
  },
  "language_info": {
   "codemirror_mode": {
    "name": "ipython",
    "version": 3
   },
   "file_extension": ".py",
   "mimetype": "text/x-python",
   "name": "python",
   "nbconvert_exporter": "python",
   "pygments_lexer": "ipython3",
   "version": "3.6.9"
  },
  "toc": {
   "base_numbering": 1,
   "nav_menu": {},
   "number_sections": true,
   "sideBar": true,
   "skip_h1_title": false,
   "title_cell": "Table of Contents",
   "title_sidebar": "Contents",
   "toc_cell": false,
   "toc_position": {
    "height": "calc(100% - 180px)",
    "left": "10px",
    "top": "150px",
    "width": "370.594px"
   },
   "toc_section_display": true,
   "toc_window_display": true
  }
 },
 "nbformat": 4,
 "nbformat_minor": 2
}
