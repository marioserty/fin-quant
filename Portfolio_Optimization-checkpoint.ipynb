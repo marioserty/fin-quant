{
 "cells": [
  {
   "cell_type": "code",
   "execution_count": 3,
   "metadata": {},
   "outputs": [],
   "source": [
    "import pandas as pd\n",
    "import numpy as np\n",
    "import matplotlib.pyplot as plt\n",
    "import seaborn as sns; sns.set()\n",
    "from docplex.mp.model import Model\n",
    "import yfinance as yf"
   ]
  },
  {
   "cell_type": "code",
   "execution_count": 69,
   "metadata": {},
   "outputs": [],
   "source": [
    "asset_names = ['A', 'B']\n",
    "mu_vec = [0.08, 0.03]\n",
    "s = [0.12, 0.11]\n",
    "ro = 0.15\n",
    "cov = ro*(s[0]*s[1])"
   ]
  },
  {
   "cell_type": "code",
   "execution_count": 76,
   "metadata": {},
   "outputs": [
    {
     "data": {
      "text/html": [
       "<div>\n",
       "<style scoped>\n",
       "    .dataframe tbody tr th:only-of-type {\n",
       "        vertical-align: middle;\n",
       "    }\n",
       "\n",
       "    .dataframe tbody tr th {\n",
       "        vertical-align: top;\n",
       "    }\n",
       "\n",
       "    .dataframe thead th {\n",
       "        text-align: right;\n",
       "    }\n",
       "</style>\n",
       "<table border=\"1\" class=\"dataframe\">\n",
       "  <thead>\n",
       "    <tr style=\"text-align: right;\">\n",
       "      <th></th>\n",
       "      <th>A</th>\n",
       "      <th>B</th>\n",
       "    </tr>\n",
       "  </thead>\n",
       "  <tbody>\n",
       "    <tr>\n",
       "      <td>A</td>\n",
       "      <td>0.01440</td>\n",
       "      <td>0.00198</td>\n",
       "    </tr>\n",
       "    <tr>\n",
       "      <td>B</td>\n",
       "      <td>0.00198</td>\n",
       "      <td>0.01210</td>\n",
       "    </tr>\n",
       "  </tbody>\n",
       "</table>\n",
       "</div>"
      ],
      "text/plain": [
       "         A        B\n",
       "A  0.01440  0.00198\n",
       "B  0.00198  0.01210"
      ]
     },
     "execution_count": 76,
     "metadata": {},
     "output_type": "execute_result"
    }
   ],
   "source": [
    "mat = np.matrix(\n",
    "    [[s[0]**2, cov],\n",
    "     [cov, s[1]**2]]\n",
    ")\n",
    "df_cov = pd.DataFrame(mat, columns=asset_names, index=asset_names)\n",
    "df_cov"
   ]
  },
  {
   "cell_type": "code",
   "execution_count": 75,
   "metadata": {},
   "outputs": [
    {
     "name": "stdout",
     "output_type": "stream",
     "text": [
      "* model markowitz solved with objective = 0.008\n",
      "w_A 0.449\n",
      "w_B 0.551\n"
     ]
    }
   ],
   "source": [
    "mdl = Model(name='markowitz')\n",
    "# Decision variables\n",
    "w = mdl.continuous_var_list(df_cov.index, name='w')\n",
    "# Constraints\n",
    "mdl.add_constraint(mdl.sum(w) == 1)\n",
    "# Objective function\n",
    "N = len(df_cov.columns)\n",
    "corr_exp = mdl.sum([w[i] * w[j] * df_cov.values[i][j] for i in range(N) for j in range(N)])\n",
    "mdl.minimize(corr_exp)\n",
    "# Solve model\n",
    "mdl.solve()\n",
    "mdl.report()\n",
    "# Print stocks weights\n",
    "for i in range(N):\n",
    "    print(w[i], np.round(w[i].solution_value, 3))"
   ]
  },
  {
   "cell_type": "code",
   "execution_count": 85,
   "metadata": {},
   "outputs": [
    {
     "data": {
      "text/plain": [
       "0.052"
      ]
     },
     "execution_count": 85,
     "metadata": {},
     "output_type": "execute_result"
    }
   ],
   "source": [
    "exp_return = w[0].solution_value * mu_vec[0] + w[1].solution_value * mu_vec[1]\n",
    "np.round(exp_return, 3)"
   ]
  },
  {
   "cell_type": "code",
   "execution_count": 86,
   "metadata": {},
   "outputs": [
    {
     "data": {
      "text/plain": [
       "0.114"
      ]
     },
     "execution_count": 86,
     "metadata": {},
     "output_type": "execute_result"
    }
   ],
   "source": [
    "exp_std = w[0].solution_value * s[0] + w[1].solution_value * s[1]\n",
    "np.round(exp_std, 3)"
   ]
  },
  {
   "cell_type": "code",
   "execution_count": 87,
   "metadata": {
    "scrolled": true
   },
   "outputs": [
    {
     "data": {
      "text/plain": [
       "<matplotlib.collections.PathCollection at 0x7fc3577e6080>"
      ]
     },
     "execution_count": 87,
     "metadata": {},
     "output_type": "execute_result"
    },
    {
     "data": {
      "image/png": "[encoded data removed]",
      "text/plain": [
       "<Figure size 432x288 with 1 Axes>"
      ]
     },
     "metadata": {
      "needs_background": "light"
     },
     "output_type": "display_data"
    }
   ],
   "source": [
    "weights = [(1 - i, i) for i in np.arange(0.0, 1, 0.1)]\n",
    "returns = [mu_vec[0]*w1 + mu_vec[1]*w2 for w1, w2 in weights]\n",
    "stds = [s[0]*w1 + s[1]*w2 for w1, w2 in weights]\n",
    "plt.scatter(x=stds, y=returns)"
   ]
  },
  {
   "cell_type": "code",
   "execution_count": 103,
   "metadata": {},
   "outputs": [
    {
     "name": "stdout",
     "output_type": "stream",
     "text": [
      "* model markowitz solved with objective = 0.028\n",
      "w_A 1.4\n",
      "w_B -0.4\n"
     ]
    }
   ],
   "source": [
    "N = len(df_cov.columns)\n",
    "mdl = Model(name='markowitz')\n",
    "# Decision variables\n",
    "w = mdl.continuous_var_list(df_cov.index, name='w', ub=100, lb=-100)\n",
    "# Constraints\n",
    "mdl.add_constraint(mdl.sum(w) == 1)\n",
    "mdl.add_constraint((mu_vec[0] * w[0] + mu_vec[1] * w[1]) >= 0.10)\n",
    "# Objective function\n",
    "corr_exp = mdl.sum([w[i] * w[j] * df_cov.values[i][j] for i in range(N) for j in range(N)])\n",
    "mdl.minimize(corr_exp)\n",
    "# Solve model\n",
    "mdl.solve()\n",
    "mdl.report()\n",
    "# Print stocks weights\n",
    "for i in range(N):\n",
    "    print(w[i], np.round(w[i].solution_value, 3))"
   ]
  },
  {
   "cell_type": "code",
   "execution_count": 104,
   "metadata": {},
   "outputs": [
    {
     "data": {
      "text/plain": [
       "0.124"
      ]
     },
     "execution_count": 104,
     "metadata": {},
     "output_type": "execute_result"
    }
   ],
   "source": [
    "exp_std = w[0].solution_value * s[0] + w[1].solution_value * s[1]\n",
    "np.round(exp_std, 3)"
   ]
  },
  {
   "cell_type": "markdown",
   "metadata": {},
   "source": [
    "# Data Collecting"
   ]
  },
  {
   "cell_type": "code",
   "execution_count": 8,
   "metadata": {},
   "outputs": [],
   "source": [
    "start_date = '2020-08-01'\n",
    "end_date = '2020-09-01'"
   ]
  },
  {
   "cell_type": "code",
   "execution_count": 9,
   "metadata": {},
   "outputs": [],
   "source": [
    "# ticker_list = ['DTEX3.SA', 'OMGE3.SA', 'RAPT4.SA', 'VLID3.SA', 'WEGE3.SA'] # Junho\n",
    "# ticker_list = ['GGBR4.SA', 'LINX3.SA', 'EZTC3.SA', 'VVAR3.SA', 'IRBR3.SA'] # Julho\n",
    "# ticker_list = ['CCRO3.SA', 'FLRY3.SA', 'RADL3.SA', 'DTEX3.SA', 'RAPT4.SA'] # Agosto\n",
    "ticker_list = ['LREN3.SA', 'QUAL3.SA', 'TAEE11.SA', 'TOTS3.SA', 'VVAR3.SA'] # Setembro"
   ]
  },
  {
   "cell_type": "code",
   "execution_count": 10,
   "metadata": {},
   "outputs": [
    {
     "name": "stdout",
     "output_type": "stream",
     "text": [
      "[*********************100%***********************]  5 of 5 completed\n"
     ]
    }
   ],
   "source": [
    "data = yf.download(ticker_list, start_date, end_date)"
   ]
  },
  {
   "cell_type": "code",
   "execution_count": 11,
   "metadata": {},
   "outputs": [
    {
     "data": {
      "text/html": [
       "<div>\n",
       "<style scoped>\n",
       "    .dataframe tbody tr th:only-of-type {\n",
       "        vertical-align: middle;\n",
       "    }\n",
       "\n",
       "    .dataframe tbody tr th {\n",
       "        vertical-align: top;\n",
       "    }\n",
       "\n",
       "    .dataframe thead tr th {\n",
       "        text-align: left;\n",
       "    }\n",
       "\n",
       "    .dataframe thead tr:last-of-type th {\n",
       "        text-align: right;\n",
       "    }\n",
       "</style>\n",
       "<table border=\"1\" class=\"dataframe\">\n",
       "  <thead>\n",
       "    <tr>\n",
       "      <th></th>\n",
       "      <th colspan=\"5\" halign=\"left\">Adj Close</th>\n",
       "      <th colspan=\"5\" halign=\"left\">Close</th>\n",
       "      <th>...</th>\n",
       "      <th colspan=\"5\" halign=\"left\">Open</th>\n",
       "      <th colspan=\"5\" halign=\"left\">Volume</th>\n",
       "    </tr>\n",
       "    <tr>\n",
       "      <th></th>\n",
       "      <th>LREN3.SA</th>\n",
       "      <th>QUAL3.SA</th>\n",
       "      <th>TAEE11.SA</th>\n",
       "      <th>TOTS3.SA</th>\n",
       "      <th>VVAR3.SA</th>\n",
       "      <th>LREN3.SA</th>\n",
       "      <th>QUAL3.SA</th>\n",
       "      <th>TAEE11.SA</th>\n",
       "      <th>TOTS3.SA</th>\n",
       "      <th>VVAR3.SA</th>\n",
       "      <th>...</th>\n",
       "      <th>LREN3.SA</th>\n",
       "      <th>QUAL3.SA</th>\n",
       "      <th>TAEE11.SA</th>\n",
       "      <th>TOTS3.SA</th>\n",
       "      <th>VVAR3.SA</th>\n",
       "      <th>LREN3.SA</th>\n",
       "      <th>QUAL3.SA</th>\n",
       "      <th>TAEE11.SA</th>\n",
       "      <th>TOTS3.SA</th>\n",
       "      <th>VVAR3.SA</th>\n",
       "    </tr>\n",
       "    <tr>\n",
       "      <th>Date</th>\n",
       "      <th></th>\n",
       "      <th></th>\n",
       "      <th></th>\n",
       "      <th></th>\n",
       "      <th></th>\n",
       "      <th></th>\n",
       "      <th></th>\n",
       "      <th></th>\n",
       "      <th></th>\n",
       "      <th></th>\n",
       "      <th></th>\n",
       "      <th></th>\n",
       "      <th></th>\n",
       "      <th></th>\n",
       "      <th></th>\n",
       "      <th></th>\n",
       "      <th></th>\n",
       "      <th></th>\n",
       "      <th></th>\n",
       "      <th></th>\n",
       "      <th></th>\n",
       "    </tr>\n",
       "  </thead>\n",
       "  <tbody>\n",
       "    <tr>\n",
       "      <td>2020-08-03</td>\n",
       "      <td>40.820000</td>\n",
       "      <td>27.990000</td>\n",
       "      <td>27.855869</td>\n",
       "      <td>25.762154</td>\n",
       "      <td>20.110001</td>\n",
       "      <td>40.820000</td>\n",
       "      <td>27.990000</td>\n",
       "      <td>28.650000</td>\n",
       "      <td>25.830000</td>\n",
       "      <td>20.110001</td>\n",
       "      <td>...</td>\n",
       "      <td>41.119999</td>\n",
       "      <td>28.290001</td>\n",
       "      <td>29.160000</td>\n",
       "      <td>25.520000</td>\n",
       "      <td>19.889999</td>\n",
       "      <td>6958400</td>\n",
       "      <td>4800900</td>\n",
       "      <td>2819100</td>\n",
       "      <td>6911800</td>\n",
       "      <td>83343400</td>\n",
       "    </tr>\n",
       "    <tr>\n",
       "      <td>2020-08-04</td>\n",
       "      <td>39.480000</td>\n",
       "      <td>27.920000</td>\n",
       "      <td>27.826702</td>\n",
       "      <td>25.871864</td>\n",
       "      <td>19.860001</td>\n",
       "      <td>39.480000</td>\n",
       "      <td>27.920000</td>\n",
       "      <td>28.620001</td>\n",
       "      <td>25.940001</td>\n",
       "      <td>19.860001</td>\n",
       "      <td>...</td>\n",
       "      <td>40.680000</td>\n",
       "      <td>27.850000</td>\n",
       "      <td>28.510000</td>\n",
       "      <td>25.520000</td>\n",
       "      <td>19.639999</td>\n",
       "      <td>10928200</td>\n",
       "      <td>3811200</td>\n",
       "      <td>2954700</td>\n",
       "      <td>5704500</td>\n",
       "      <td>75470100</td>\n",
       "    </tr>\n",
       "    <tr>\n",
       "      <td>2020-08-05</td>\n",
       "      <td>40.740002</td>\n",
       "      <td>28.129999</td>\n",
       "      <td>27.632246</td>\n",
       "      <td>25.931707</td>\n",
       "      <td>20.000000</td>\n",
       "      <td>40.740002</td>\n",
       "      <td>28.129999</td>\n",
       "      <td>28.420000</td>\n",
       "      <td>26.000000</td>\n",
       "      <td>20.000000</td>\n",
       "      <td>...</td>\n",
       "      <td>40.000000</td>\n",
       "      <td>28.170000</td>\n",
       "      <td>28.750000</td>\n",
       "      <td>26.180000</td>\n",
       "      <td>20.209999</td>\n",
       "      <td>5099200</td>\n",
       "      <td>2987400</td>\n",
       "      <td>2136500</td>\n",
       "      <td>4947100</td>\n",
       "      <td>76897400</td>\n",
       "    </tr>\n",
       "    <tr>\n",
       "      <td>2020-08-06</td>\n",
       "      <td>42.849998</td>\n",
       "      <td>28.879999</td>\n",
       "      <td>28.089218</td>\n",
       "      <td>28.744299</td>\n",
       "      <td>19.590000</td>\n",
       "      <td>42.849998</td>\n",
       "      <td>28.879999</td>\n",
       "      <td>28.889999</td>\n",
       "      <td>28.820000</td>\n",
       "      <td>19.590000</td>\n",
       "      <td>...</td>\n",
       "      <td>40.700001</td>\n",
       "      <td>28.000000</td>\n",
       "      <td>28.500000</td>\n",
       "      <td>26.620001</td>\n",
       "      <td>20.250000</td>\n",
       "      <td>10178300</td>\n",
       "      <td>2741700</td>\n",
       "      <td>2022200</td>\n",
       "      <td>14825900</td>\n",
       "      <td>65015300</td>\n",
       "    </tr>\n",
       "    <tr>\n",
       "      <td>2020-08-07</td>\n",
       "      <td>43.220001</td>\n",
       "      <td>28.680000</td>\n",
       "      <td>27.962822</td>\n",
       "      <td>28.704405</td>\n",
       "      <td>19.030001</td>\n",
       "      <td>43.220001</td>\n",
       "      <td>28.680000</td>\n",
       "      <td>28.760000</td>\n",
       "      <td>28.780001</td>\n",
       "      <td>19.030001</td>\n",
       "      <td>...</td>\n",
       "      <td>42.000000</td>\n",
       "      <td>28.590000</td>\n",
       "      <td>28.809999</td>\n",
       "      <td>28.570000</td>\n",
       "      <td>19.480000</td>\n",
       "      <td>8419000</td>\n",
       "      <td>4144400</td>\n",
       "      <td>1637500</td>\n",
       "      <td>6293400</td>\n",
       "      <td>86845100</td>\n",
       "    </tr>\n",
       "  </tbody>\n",
       "</table>\n",
       "<p>5 rows × 30 columns</p>\n",
       "</div>"
      ],
      "text/plain": [
       "            Adj Close                                                  Close  \\\n",
       "             LREN3.SA   QUAL3.SA  TAEE11.SA   TOTS3.SA   VVAR3.SA   LREN3.SA   \n",
       "Date                                                                           \n",
       "2020-08-03  40.820000  27.990000  27.855869  25.762154  20.110001  40.820000   \n",
       "2020-08-04  39.480000  27.920000  27.826702  25.871864  19.860001  39.480000   \n",
       "2020-08-05  40.740002  28.129999  27.632246  25.931707  20.000000  40.740002   \n",
       "2020-08-06  42.849998  28.879999  28.089218  28.744299  19.590000  42.849998   \n",
       "2020-08-07  43.220001  28.680000  27.962822  28.704405  19.030001  43.220001   \n",
       "\n",
       "                                                        ...       Open  \\\n",
       "             QUAL3.SA  TAEE11.SA   TOTS3.SA   VVAR3.SA  ...   LREN3.SA   \n",
       "Date                                                    ...              \n",
       "2020-08-03  27.990000  28.650000  25.830000  20.110001  ...  41.119999   \n",
       "2020-08-04  27.920000  28.620001  25.940001  19.860001  ...  40.680000   \n",
       "2020-08-05  28.129999  28.420000  26.000000  20.000000  ...  40.000000   \n",
       "2020-08-06  28.879999  28.889999  28.820000  19.590000  ...  40.700001   \n",
       "2020-08-07  28.680000  28.760000  28.780001  19.030001  ...  42.000000   \n",
       "\n",
       "                                                          Volume           \\\n",
       "             QUAL3.SA  TAEE11.SA   TOTS3.SA   VVAR3.SA  LREN3.SA QUAL3.SA   \n",
       "Date                                                                        \n",
       "2020-08-03  28.290001  29.160000  25.520000  19.889999   6958400  4800900   \n",
       "2020-08-04  27.850000  28.510000  25.520000  19.639999  10928200  3811200   \n",
       "2020-08-05  28.170000  28.750000  26.180000  20.209999   5099200  2987400   \n",
       "2020-08-06  28.000000  28.500000  26.620001  20.250000  10178300  2741700   \n",
       "2020-08-07  28.590000  28.809999  28.570000  19.480000   8419000  4144400   \n",
       "\n",
       "                                          \n",
       "           TAEE11.SA  TOTS3.SA  VVAR3.SA  \n",
       "Date                                      \n",
       "2020-08-03   2819100   6911800  83343400  \n",
       "2020-08-04   2954700   5704500  75470100  \n",
       "2020-08-05   2136500   4947100  76897400  \n",
       "2020-08-06   2022200  14825900  65015300  \n",
       "2020-08-07   1637500   6293400  86845100  \n",
       "\n",
       "[5 rows x 30 columns]"
      ]
     },
     "execution_count": 11,
     "metadata": {},
     "output_type": "execute_result"
    }
   ],
   "source": [
    "data.head()"
   ]
  },
  {
   "cell_type": "markdown",
   "metadata": {},
   "source": [
    "## Processing adjusted closing prices"
   ]
  },
  {
   "cell_type": "code",
   "execution_count": 12,
   "metadata": {},
   "outputs": [
    {
     "data": {
      "text/html": [
       "<div>\n",
       "<style scoped>\n",
       "    .dataframe tbody tr th:only-of-type {\n",
       "        vertical-align: middle;\n",
       "    }\n",
       "\n",
       "    .dataframe tbody tr th {\n",
       "        vertical-align: top;\n",
       "    }\n",
       "\n",
       "    .dataframe thead th {\n",
       "        text-align: right;\n",
       "    }\n",
       "</style>\n",
       "<table border=\"1\" class=\"dataframe\">\n",
       "  <thead>\n",
       "    <tr style=\"text-align: right;\">\n",
       "      <th></th>\n",
       "      <th>LREN3.SA</th>\n",
       "      <th>QUAL3.SA</th>\n",
       "      <th>TAEE11.SA</th>\n",
       "      <th>TOTS3.SA</th>\n",
       "      <th>VVAR3.SA</th>\n",
       "    </tr>\n",
       "    <tr>\n",
       "      <th>Date</th>\n",
       "      <th></th>\n",
       "      <th></th>\n",
       "      <th></th>\n",
       "      <th></th>\n",
       "      <th></th>\n",
       "    </tr>\n",
       "  </thead>\n",
       "  <tbody>\n",
       "    <tr>\n",
       "      <td>2020-08-04</td>\n",
       "      <td>-0.032827</td>\n",
       "      <td>-0.002501</td>\n",
       "      <td>-0.001047</td>\n",
       "      <td>0.004259</td>\n",
       "      <td>-0.012432</td>\n",
       "    </tr>\n",
       "    <tr>\n",
       "      <td>2020-08-05</td>\n",
       "      <td>0.031915</td>\n",
       "      <td>0.007521</td>\n",
       "      <td>-0.006988</td>\n",
       "      <td>0.002313</td>\n",
       "      <td>0.007049</td>\n",
       "    </tr>\n",
       "    <tr>\n",
       "      <td>2020-08-06</td>\n",
       "      <td>0.051792</td>\n",
       "      <td>0.026662</td>\n",
       "      <td>0.016538</td>\n",
       "      <td>0.108461</td>\n",
       "      <td>-0.020500</td>\n",
       "    </tr>\n",
       "    <tr>\n",
       "      <td>2020-08-07</td>\n",
       "      <td>0.008635</td>\n",
       "      <td>-0.006925</td>\n",
       "      <td>-0.004500</td>\n",
       "      <td>-0.001388</td>\n",
       "      <td>-0.028586</td>\n",
       "    </tr>\n",
       "    <tr>\n",
       "      <td>2020-08-10</td>\n",
       "      <td>-0.013188</td>\n",
       "      <td>-0.013250</td>\n",
       "      <td>0.005911</td>\n",
       "      <td>-0.074010</td>\n",
       "      <td>0.007357</td>\n",
       "    </tr>\n",
       "    <tr>\n",
       "      <td>2020-08-11</td>\n",
       "      <td>-0.003751</td>\n",
       "      <td>0.007067</td>\n",
       "      <td>-0.009679</td>\n",
       "      <td>0.034989</td>\n",
       "      <td>-0.022431</td>\n",
       "    </tr>\n",
       "    <tr>\n",
       "      <td>2020-08-12</td>\n",
       "      <td>-0.015062</td>\n",
       "      <td>-0.021053</td>\n",
       "      <td>-0.011169</td>\n",
       "      <td>0.017812</td>\n",
       "      <td>-0.030950</td>\n",
       "    </tr>\n",
       "    <tr>\n",
       "      <td>2020-08-13</td>\n",
       "      <td>-0.028913</td>\n",
       "      <td>0.014337</td>\n",
       "      <td>0.019061</td>\n",
       "      <td>-0.003929</td>\n",
       "      <td>0.034141</td>\n",
       "    </tr>\n",
       "    <tr>\n",
       "      <td>2020-08-14</td>\n",
       "      <td>0.023868</td>\n",
       "      <td>-0.006007</td>\n",
       "      <td>0.016626</td>\n",
       "      <td>-0.004303</td>\n",
       "      <td>-0.009585</td>\n",
       "    </tr>\n",
       "    <tr>\n",
       "      <td>2020-08-17</td>\n",
       "      <td>-0.024754</td>\n",
       "      <td>-0.029861</td>\n",
       "      <td>-0.003407</td>\n",
       "      <td>-0.027728</td>\n",
       "      <td>-0.056989</td>\n",
       "    </tr>\n",
       "    <tr>\n",
       "      <td>2020-08-18</td>\n",
       "      <td>0.017989</td>\n",
       "      <td>0.040308</td>\n",
       "      <td>-0.003490</td>\n",
       "      <td>0.037037</td>\n",
       "      <td>0.081528</td>\n",
       "    </tr>\n",
       "    <tr>\n",
       "      <td>2020-08-19</td>\n",
       "      <td>-0.037521</td>\n",
       "      <td>-0.019373</td>\n",
       "      <td>0.004587</td>\n",
       "      <td>-0.010714</td>\n",
       "      <td>0.016342</td>\n",
       "    </tr>\n",
       "    <tr>\n",
       "      <td>2020-08-20</td>\n",
       "      <td>0.034205</td>\n",
       "      <td>-0.011494</td>\n",
       "      <td>0.006322</td>\n",
       "      <td>-0.005776</td>\n",
       "      <td>0.014004</td>\n",
       "    </tr>\n",
       "    <tr>\n",
       "      <td>2020-08-21</td>\n",
       "      <td>0.020671</td>\n",
       "      <td>0.078125</td>\n",
       "      <td>-0.011518</td>\n",
       "      <td>0.020334</td>\n",
       "      <td>0.009719</td>\n",
       "    </tr>\n",
       "    <tr>\n",
       "      <td>2020-08-24</td>\n",
       "      <td>0.000477</td>\n",
       "      <td>0.013819</td>\n",
       "      <td>-0.002472</td>\n",
       "      <td>-0.010320</td>\n",
       "      <td>0.030902</td>\n",
       "    </tr>\n",
       "    <tr>\n",
       "      <td>2020-08-25</td>\n",
       "      <td>0.042867</td>\n",
       "      <td>0.020612</td>\n",
       "      <td>0.004248</td>\n",
       "      <td>0.001079</td>\n",
       "      <td>0.017199</td>\n",
       "    </tr>\n",
       "    <tr>\n",
       "      <td>2020-08-26</td>\n",
       "      <td>-0.018041</td>\n",
       "      <td>-0.026059</td>\n",
       "      <td>-0.003877</td>\n",
       "      <td>0.009339</td>\n",
       "      <td>-0.019807</td>\n",
       "    </tr>\n",
       "    <tr>\n",
       "      <td>2020-08-27</td>\n",
       "      <td>-0.007209</td>\n",
       "      <td>-0.002341</td>\n",
       "      <td>-0.000354</td>\n",
       "      <td>0.003915</td>\n",
       "      <td>0.003450</td>\n",
       "    </tr>\n",
       "    <tr>\n",
       "      <td>2020-08-28</td>\n",
       "      <td>0.024127</td>\n",
       "      <td>0.055984</td>\n",
       "      <td>0.005310</td>\n",
       "      <td>0.020915</td>\n",
       "      <td>-0.006876</td>\n",
       "    </tr>\n",
       "    <tr>\n",
       "      <td>2020-08-31</td>\n",
       "      <td>-0.005718</td>\n",
       "      <td>-0.008254</td>\n",
       "      <td>-0.004577</td>\n",
       "      <td>0.002083</td>\n",
       "      <td>0.013848</td>\n",
       "    </tr>\n",
       "  </tbody>\n",
       "</table>\n",
       "</div>"
      ],
      "text/plain": [
       "            LREN3.SA  QUAL3.SA  TAEE11.SA  TOTS3.SA  VVAR3.SA\n",
       "Date                                                         \n",
       "2020-08-04 -0.032827 -0.002501  -0.001047  0.004259 -0.012432\n",
       "2020-08-05  0.031915  0.007521  -0.006988  0.002313  0.007049\n",
       "2020-08-06  0.051792  0.026662   0.016538  0.108461 -0.020500\n",
       "2020-08-07  0.008635 -0.006925  -0.004500 -0.001388 -0.028586\n",
       "2020-08-10 -0.013188 -0.013250   0.005911 -0.074010  0.007357\n",
       "2020-08-11 -0.003751  0.007067  -0.009679  0.034989 -0.022431\n",
       "2020-08-12 -0.015062 -0.021053  -0.011169  0.017812 -0.030950\n",
       "2020-08-13 -0.028913  0.014337   0.019061 -0.003929  0.034141\n",
       "2020-08-14  0.023868 -0.006007   0.016626 -0.004303 -0.009585\n",
       "2020-08-17 -0.024754 -0.029861  -0.003407 -0.027728 -0.056989\n",
       "2020-08-18  0.017989  0.040308  -0.003490  0.037037  0.081528\n",
       "2020-08-19 -0.037521 -0.019373   0.004587 -0.010714  0.016342\n",
       "2020-08-20  0.034205 -0.011494   0.006322 -0.005776  0.014004\n",
       "2020-08-21  0.020671  0.078125  -0.011518  0.020334  0.009719\n",
       "2020-08-24  0.000477  0.013819  -0.002472 -0.010320  0.030902\n",
       "2020-08-25  0.042867  0.020612   0.004248  0.001079  0.017199\n",
       "2020-08-26 -0.018041 -0.026059  -0.003877  0.009339 -0.019807\n",
       "2020-08-27 -0.007209 -0.002341  -0.000354  0.003915  0.003450\n",
       "2020-08-28  0.024127  0.055984   0.005310  0.020915 -0.006876\n",
       "2020-08-31 -0.005718 -0.008254  -0.004577  0.002083  0.013848"
      ]
     },
     "execution_count": 12,
     "metadata": {},
     "output_type": "execute_result"
    }
   ],
   "source": [
    "df_stocks = data['Adj Close'].pct_change().dropna(axis=0, how='all')\n",
    "df_stocks"
   ]
  },
  {
   "cell_type": "code",
   "execution_count": 13,
   "metadata": {},
   "outputs": [
    {
     "data": {
      "text/plain": [
       "(20, 5)"
      ]
     },
     "execution_count": 13,
     "metadata": {},
     "output_type": "execute_result"
    }
   ],
   "source": [
    "df_stocks.shape"
   ]
  },
  {
   "cell_type": "markdown",
   "metadata": {},
   "source": [
    "## Stocks Covariance"
   ]
  },
  {
   "cell_type": "code",
   "execution_count": 14,
   "metadata": {},
   "outputs": [
    {
     "data": {
      "text/html": [
       "<div>\n",
       "<style scoped>\n",
       "    .dataframe tbody tr th:only-of-type {\n",
       "        vertical-align: middle;\n",
       "    }\n",
       "\n",
       "    .dataframe tbody tr th {\n",
       "        vertical-align: top;\n",
       "    }\n",
       "\n",
       "    .dataframe thead th {\n",
       "        text-align: right;\n",
       "    }\n",
       "</style>\n",
       "<table border=\"1\" class=\"dataframe\">\n",
       "  <thead>\n",
       "    <tr style=\"text-align: right;\">\n",
       "      <th></th>\n",
       "      <th>LREN3.SA</th>\n",
       "      <th>QUAL3.SA</th>\n",
       "      <th>TAEE11.SA</th>\n",
       "      <th>TOTS3.SA</th>\n",
       "      <th>VVAR3.SA</th>\n",
       "    </tr>\n",
       "  </thead>\n",
       "  <tbody>\n",
       "    <tr>\n",
       "      <td>LREN3.SA</td>\n",
       "      <td>0.000695</td>\n",
       "      <td>3.858246e-04</td>\n",
       "      <td>4.119179e-05</td>\n",
       "      <td>0.000422</td>\n",
       "      <td>0.000118</td>\n",
       "    </tr>\n",
       "    <tr>\n",
       "      <td>QUAL3.SA</td>\n",
       "      <td>0.000386</td>\n",
       "      <td>7.723075e-04</td>\n",
       "      <td>-9.004204e-07</td>\n",
       "      <td>0.000419</td>\n",
       "      <td>0.000346</td>\n",
       "    </tr>\n",
       "    <tr>\n",
       "      <td>TAEE11.SA</td>\n",
       "      <td>0.000041</td>\n",
       "      <td>-9.004204e-07</td>\n",
       "      <td>8.056184e-05</td>\n",
       "      <td>0.000016</td>\n",
       "      <td>0.000040</td>\n",
       "    </tr>\n",
       "    <tr>\n",
       "      <td>TOTS3.SA</td>\n",
       "      <td>0.000422</td>\n",
       "      <td>4.192235e-04</td>\n",
       "      <td>1.582470e-05</td>\n",
       "      <td>0.001128</td>\n",
       "      <td>-0.000022</td>\n",
       "    </tr>\n",
       "    <tr>\n",
       "      <td>VVAR3.SA</td>\n",
       "      <td>0.000118</td>\n",
       "      <td>3.461859e-04</td>\n",
       "      <td>4.017794e-05</td>\n",
       "      <td>-0.000022</td>\n",
       "      <td>0.000870</td>\n",
       "    </tr>\n",
       "  </tbody>\n",
       "</table>\n",
       "</div>"
      ],
      "text/plain": [
       "           LREN3.SA      QUAL3.SA     TAEE11.SA  TOTS3.SA  VVAR3.SA\n",
       "LREN3.SA   0.000695  3.858246e-04  4.119179e-05  0.000422  0.000118\n",
       "QUAL3.SA   0.000386  7.723075e-04 -9.004204e-07  0.000419  0.000346\n",
       "TAEE11.SA  0.000041 -9.004204e-07  8.056184e-05  0.000016  0.000040\n",
       "TOTS3.SA   0.000422  4.192235e-04  1.582470e-05  0.001128 -0.000022\n",
       "VVAR3.SA   0.000118  3.461859e-04  4.017794e-05 -0.000022  0.000870"
      ]
     },
     "metadata": {},
     "output_type": "display_data"
    },
    {
     "data": {
      "text/plain": [
       "<matplotlib.axes._subplots.AxesSubplot at 0x7fc3ad7ee080>"
      ]
     },
     "execution_count": 14,
     "metadata": {},
     "output_type": "execute_result"
    },
    {
     "data": {
      "image/png": "[encoded data removed]",
      "text/plain": [
       "<Figure size 432x288 with 2 Axes>"
      ]
     },
     "metadata": {
      "needs_background": "light"
     },
     "output_type": "display_data"
    }
   ],
   "source": [
    "df_cov = df_stocks.cov()\n",
    "display(df_cov)\n",
    "sns.heatmap(df_cov)"
   ]
  },
  {
   "cell_type": "markdown",
   "metadata": {},
   "source": [
    "## Stocks Correlation"
   ]
  },
  {
   "cell_type": "code",
   "execution_count": 9,
   "metadata": {},
   "outputs": [
    {
     "data": {
      "text/html": [
       "<div>\n",
       "<style scoped>\n",
       "    .dataframe tbody tr th:only-of-type {\n",
       "        vertical-align: middle;\n",
       "    }\n",
       "\n",
       "    .dataframe tbody tr th {\n",
       "        vertical-align: top;\n",
       "    }\n",
       "\n",
       "    .dataframe thead th {\n",
       "        text-align: right;\n",
       "    }\n",
       "</style>\n",
       "<table border=\"1\" class=\"dataframe\">\n",
       "  <thead>\n",
       "    <tr style=\"text-align: right;\">\n",
       "      <th></th>\n",
       "      <th>LREN3.SA</th>\n",
       "      <th>QUAL3.SA</th>\n",
       "      <th>TAEE11.SA</th>\n",
       "      <th>TOTS3.SA</th>\n",
       "      <th>VVAR3.SA</th>\n",
       "    </tr>\n",
       "  </thead>\n",
       "  <tbody>\n",
       "    <tr>\n",
       "      <td>LREN3.SA</td>\n",
       "      <td>1.000000</td>\n",
       "      <td>0.526660</td>\n",
       "      <td>0.174093</td>\n",
       "      <td>0.476210</td>\n",
       "      <td>0.152342</td>\n",
       "    </tr>\n",
       "    <tr>\n",
       "      <td>QUAL3.SA</td>\n",
       "      <td>0.526660</td>\n",
       "      <td>1.000000</td>\n",
       "      <td>-0.003610</td>\n",
       "      <td>0.449249</td>\n",
       "      <td>0.422423</td>\n",
       "    </tr>\n",
       "    <tr>\n",
       "      <td>TAEE11.SA</td>\n",
       "      <td>0.174093</td>\n",
       "      <td>-0.003610</td>\n",
       "      <td>1.000000</td>\n",
       "      <td>0.052506</td>\n",
       "      <td>0.151794</td>\n",
       "    </tr>\n",
       "    <tr>\n",
       "      <td>TOTS3.SA</td>\n",
       "      <td>0.476210</td>\n",
       "      <td>0.449249</td>\n",
       "      <td>0.052506</td>\n",
       "      <td>1.000000</td>\n",
       "      <td>-0.021770</td>\n",
       "    </tr>\n",
       "    <tr>\n",
       "      <td>VVAR3.SA</td>\n",
       "      <td>0.152342</td>\n",
       "      <td>0.422423</td>\n",
       "      <td>0.151794</td>\n",
       "      <td>-0.021770</td>\n",
       "      <td>1.000000</td>\n",
       "    </tr>\n",
       "  </tbody>\n",
       "</table>\n",
       "</div>"
      ],
      "text/plain": [
       "           LREN3.SA  QUAL3.SA  TAEE11.SA  TOTS3.SA  VVAR3.SA\n",
       "LREN3.SA   1.000000  0.526660   0.174093  0.476210  0.152342\n",
       "QUAL3.SA   0.526660  1.000000  -0.003610  0.449249  0.422423\n",
       "TAEE11.SA  0.174093 -0.003610   1.000000  0.052506  0.151794\n",
       "TOTS3.SA   0.476210  0.449249   0.052506  1.000000 -0.021770\n",
       "VVAR3.SA   0.152342  0.422423   0.151794 -0.021770  1.000000"
      ]
     },
     "metadata": {},
     "output_type": "display_data"
    },
    {
     "data": {
      "text/plain": [
       "<matplotlib.axes._subplots.AxesSubplot at 0x7f6190550e48>"
      ]
     },
     "execution_count": 9,
     "metadata": {},
     "output_type": "execute_result"
    },
    {
     "data": {
      "image/png": "[encoded data removed]",
      "text/plain": [
       "<Figure size 432x288 with 2 Axes>"
      ]
     },
     "metadata": {
      "needs_background": "light"
     },
     "output_type": "display_data"
    }
   ],
   "source": [
    "df_corr = df_stocks.corr()\n",
    "display(df_corr)\n",
    "sns.heatmap(df_corr)"
   ]
  },
  {
   "cell_type": "markdown",
   "metadata": {},
   "source": [
    "## Stocks cummulative returns"
   ]
  },
  {
   "cell_type": "code",
   "execution_count": 10,
   "metadata": {},
   "outputs": [
    {
     "name": "stderr",
     "output_type": "stream",
     "text": [
      "/home/mario/venv/lib/python3.6/site-packages/pandas/plotting/_matplotlib/converter.py:103: FutureWarning: Using an implicitly registered datetime converter for a matplotlib plotting method. The converter was registered by pandas on import. Future versions of pandas will require you to explicitly register matplotlib converters.\n",
      "\n",
      "To register the converters:\n",
      "\t>>> from pandas.plotting import register_matplotlib_converters\n",
      "\t>>> register_matplotlib_converters()\n",
      "  warnings.warn(msg, FutureWarning)\n"
     ]
    },
    {
     "data": {
      "text/plain": [
       "<matplotlib.legend.Legend at 0x7f617941a940>"
      ]
     },
     "execution_count": 10,
     "metadata": {},
     "output_type": "execute_result"
    },
    {
     "data": {
      "image/png": "[encoded data removed]",
      "text/plain": [
       "<Figure size 864x576 with 1 Axes>"
      ]
     },
     "metadata": {
      "needs_background": "light"
     },
     "output_type": "display_data"
    }
   ],
   "source": [
    "plt.figure(figsize=(12, 8))\n",
    "plt.plot(df_stocks.add(1).cumprod(axis=0).add(-1))\n",
    "plt.legend(df_stocks.columns)"
   ]
  },
  {
   "cell_type": "markdown",
   "metadata": {},
   "source": [
    "# Markowitz Optimization Model"
   ]
  },
  {
   "cell_type": "code",
   "execution_count": 11,
   "metadata": {},
   "outputs": [
    {
     "name": "stdout",
     "output_type": "stream",
     "text": [
      "* model markowitz solved with objective = 0.358\n",
      "w_LREN3.SA 0.10245953382229789\n",
      "w_QUAL3.SA 0.06648538918874919\n",
      "w_TAEE11.SA 0.28396306810365957\n",
      "w_TOTS3.SA 0.2702318558107446\n",
      "w_VVAR3.SA 0.2768601530745485\n"
     ]
    }
   ],
   "source": [
    "mdl = Model(name='markowitz')\n",
    "# Decision variables\n",
    "w = mdl.continuous_var_list(df_stocks.columns, name='w', ub=1, lb=0.05)\n",
    "# Constraints\n",
    "mdl.add_constraint(mdl.sum(w) == 1)\n",
    "# Objective function\n",
    "N = len(df_stocks.columns)\n",
    "corr_exp = mdl.sum([w[i] * w[j] * df_corr.values[i][j] for i in range(N) for j in range(N)])\n",
    "mdl.minimize(corr_exp)\n",
    "# Solve model\n",
    "mdl.solve()\n",
    "mdl.report()\n",
    "# Print stocks weights\n",
    "for i in range(N):\n",
    "    print(w[i], w[i].solution_value)"
   ]
  },
  {
   "cell_type": "markdown",
   "metadata": {},
   "source": [
    "## Formatted Solution"
   ]
  },
  {
   "cell_type": "code",
   "execution_count": 12,
   "metadata": {},
   "outputs": [
    {
     "data": {
      "text/html": [
       "<div>\n",
       "<style scoped>\n",
       "    .dataframe tbody tr th:only-of-type {\n",
       "        vertical-align: middle;\n",
       "    }\n",
       "\n",
       "    .dataframe tbody tr th {\n",
       "        vertical-align: top;\n",
       "    }\n",
       "\n",
       "    .dataframe thead th {\n",
       "        text-align: right;\n",
       "    }\n",
       "</style>\n",
       "<table border=\"1\" class=\"dataframe\">\n",
       "  <thead>\n",
       "    <tr style=\"text-align: right;\">\n",
       "      <th></th>\n",
       "      <th>weight</th>\n",
       "    </tr>\n",
       "    <tr>\n",
       "      <th>stock</th>\n",
       "      <th></th>\n",
       "    </tr>\n",
       "  </thead>\n",
       "  <tbody>\n",
       "    <tr>\n",
       "      <td>LREN3.SA</td>\n",
       "      <td>0.10</td>\n",
       "    </tr>\n",
       "    <tr>\n",
       "      <td>QUAL3.SA</td>\n",
       "      <td>0.07</td>\n",
       "    </tr>\n",
       "    <tr>\n",
       "      <td>TAEE11.SA</td>\n",
       "      <td>0.28</td>\n",
       "    </tr>\n",
       "    <tr>\n",
       "      <td>TOTS3.SA</td>\n",
       "      <td>0.27</td>\n",
       "    </tr>\n",
       "    <tr>\n",
       "      <td>VVAR3.SA</td>\n",
       "      <td>0.28</td>\n",
       "    </tr>\n",
       "  </tbody>\n",
       "</table>\n",
       "</div>"
      ],
      "text/plain": [
       "           weight\n",
       "stock            \n",
       "LREN3.SA     0.10\n",
       "QUAL3.SA     0.07\n",
       "TAEE11.SA    0.28\n",
       "TOTS3.SA     0.27\n",
       "VVAR3.SA     0.28"
      ]
     },
     "execution_count": 12,
     "metadata": {},
     "output_type": "execute_result"
    }
   ],
   "source": [
    "df_solution = pd.DataFrame(index=df_stocks.columns)\n",
    "df_solution.index.name = 'stock'\n",
    "df_solution['weight'] = np.round([w[i].solution_value for i in range(N)], 2)\n",
    "df_solution"
   ]
  },
  {
   "cell_type": "code",
   "execution_count": null,
   "metadata": {},
   "outputs": [],
   "source": []
  }
 ],
 "metadata": {
  "hide_input": false,
  "kernelspec": {
   "display_name": "Python 3",
   "language": "python",
   "name": "python3"
  },
  "language_info": {
   "codemirror_mode": {
    "name": "ipython",
    "version": 3
   },
   "file_extension": ".py",
   "mimetype": "text/x-python",
   "name": "python",
   "nbconvert_exporter": "python",
   "pygments_lexer": "ipython3",
   "version": "3.6.9"
  },
  "toc": {
   "base_numbering": 1,
   "nav_menu": {},
   "number_sections": true,
   "sideBar": true,
   "skip_h1_title": false,
   "title_cell": "Table of Contents",
   "title_sidebar": "Contents",
   "toc_cell": false,
   "toc_position": {
    "height": "calc(100% - 180px)",
    "left": "10px",
    "top": "150px",
    "width": "286px"
   },
   "toc_section_display": true,
   "toc_window_display": false
  }
 },
 "nbformat": 4,
 "nbformat_minor": 4
}
