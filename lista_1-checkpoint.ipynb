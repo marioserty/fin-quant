{
 "cells": [
  {
   "cell_type": "markdown",
   "metadata": {},
   "source": [
    "**Lista 1 - Finanças Quantitativas**\n",
    "\n",
    "**Mário Augusto Fuzetti Bueno Filho**"
   ]
  },
  {
   "cell_type": "code",
   "execution_count": 1,
   "metadata": {},
   "outputs": [],
   "source": [
    "import pandas as pd\n",
    "import numpy as np\n",
    "import matplotlib.pyplot as plt"
   ]
  },
  {
   "cell_type": "markdown",
   "metadata": {},
   "source": [
    "# Questão 1\n",
    "\n",
    "<b> Considere uma ação cujo preco atual é R\\\\$100. Analistas financeiros concluíram que há duas\n",
    "possibilidades de preço ao final do próximo mês: R\\\\$105 e R\\\\$95, ambos cenários com probabilidade de\n",
    "50%.\n",
    "Existe a possibilidade de comprar uma opçao de compra desta ação com preço de exercício de\n",
    "R\\\\$102 ao final do mês. Atualmente a opção custa R\\\\$1.60."
   ]
  },
  {
   "cell_type": "markdown",
   "metadata": {},
   "source": [
    "## a) Considerando uma taxa livre de risco de 0% ao mês, você compraria esta opção? Por que?"
   ]
  },
  {
   "cell_type": "markdown",
   "metadata": {},
   "source": [
    "$P^{o}_{t} = ?$\n",
    "\n",
    "<b>Analisando os dois cenários:\n",
    "\n",
    "- $105: - 105\\Delta + 100\\Delta + 3$\n",
    "\n",
    "- $95: - 95\\Delta + 100\\Delta + 0$\n",
    "\n",
    "<b>Igualando e resolvendo a equação:\n",
    "\n",
    "$- 105\\Delta + 100\\Delta + 3 =  - 95\\Delta + 100\\Delta + 0$\n",
    "\n",
    "$- 5\\Delta + 3 = 5\\Delta$\n",
    "\n",
    "$10\\Delta = 3$\n",
    "\n",
    "$\\Delta = 0.3$\n",
    "    \n",
    "Logo $P^{o}_{t} = 1.5$\n",
    "\n",
    "<b> R: Como o valor atual da opção está acima do valor teórico, não compraria a opção de compra."
   ]
  },
  {
   "cell_type": "markdown",
   "metadata": {},
   "source": [
    "## b) Se a taxa de livre de risco for 1% sua decisão mudaria?"
   ]
  },
  {
   "cell_type": "markdown",
   "metadata": {},
   "source": [
    "---"
   ]
  },
  {
   "cell_type": "markdown",
   "metadata": {},
   "source": [
    "# Questão 2\n",
    "\n",
    "<b>Considere uma roleta em um cassino que possui números de 1 a 30. Ao jogar nesta roleta,\n",
    "suponha que uma pessoa escolha um número ímpar e faça sua aposta. Se o crupiê girar a roleta e obtiver\n",
    "um número par, a pessoa perde todo o valor apostado. Se a bolinha parar em um número ímpar, mas\n",
    "diferente daquele escolhido, a pessoa perde metade do valor apostado. Caso a pessoa acerte o número\n",
    "sorteado, ela recebe 50 vezes o valor apostado. O mesmo raciocínio vale se a pessoa escolher um número\n",
    "par.\n",
    "    Suponha que esta pessoa possua um capital disponível M, seja viciada em jogos e possua todo o\n",
    "tempo do mundo, isto é, está disposta a apostar na roleta infinitamente."
   ]
  },
  {
   "cell_type": "markdown",
   "metadata": {},
   "source": [
    "## a) Qual porcentagem ideal de M que ela deve apostar de forma a maximizar o retorno esperado deste jogo? Qual é este retorno esperado?"
   ]
  },
  {
   "cell_type": "code",
   "execution_count": 2,
   "metadata": {},
   "outputs": [
    {
     "name": "stdout",
     "output_type": "stream",
     "text": [
      "R: O retorno esperado é de: 93.33% se a pessoa apostasse 100% de seu patrimônio.\n"
     ]
    }
   ],
   "source": [
    "probabilidades = np.array([15/30, 14/30, 1/30])\n",
    "patrimonio = np.array([0, 0.5, 51])\n",
    "\n",
    "expected_return = sum(probabilidades * patrimonio) - 1\n",
    "print('R: O retorno esperado é de: {:.2f}% se a pessoa apostasse 100% de seu patrimônio.'.format(expected_return*100))"
   ]
  },
  {
   "cell_type": "markdown",
   "metadata": {},
   "source": [
    "## b) O que vai acontecer na prática se ela apostar a proporção obtida acima?"
   ]
  },
  {
   "cell_type": "code",
   "execution_count": 3,
   "metadata": {},
   "outputs": [
    {
     "data": {
      "text/html": [
       "<div>\n",
       "<style scoped>\n",
       "    .dataframe tbody tr th:only-of-type {\n",
       "        vertical-align: middle;\n",
       "    }\n",
       "\n",
       "    .dataframe tbody tr th {\n",
       "        vertical-align: top;\n",
       "    }\n",
       "\n",
       "    .dataframe thead th {\n",
       "        text-align: right;\n",
       "    }\n",
       "</style>\n",
       "<table border=\"1\" class=\"dataframe\">\n",
       "  <thead>\n",
       "    <tr style=\"text-align: right;\">\n",
       "      <th></th>\n",
       "      <th>Patrimônio</th>\n",
       "      <th>E(X)</th>\n",
       "      <th>Gx</th>\n",
       "    </tr>\n",
       "  </thead>\n",
       "  <tbody>\n",
       "    <tr>\n",
       "      <td>995</td>\n",
       "      <td>0.995</td>\n",
       "      <td>0.961833</td>\n",
       "      <td>-0.941502</td>\n",
       "    </tr>\n",
       "    <tr>\n",
       "      <td>996</td>\n",
       "      <td>0.996</td>\n",
       "      <td>0.962800</td>\n",
       "      <td>-0.947700</td>\n",
       "    </tr>\n",
       "    <tr>\n",
       "      <td>997</td>\n",
       "      <td>0.997</td>\n",
       "      <td>0.963767</td>\n",
       "      <td>-0.954726</td>\n",
       "    </tr>\n",
       "    <tr>\n",
       "      <td>998</td>\n",
       "      <td>0.998</td>\n",
       "      <td>0.964733</td>\n",
       "      <td>-0.963050</td>\n",
       "    </tr>\n",
       "    <tr>\n",
       "      <td>999</td>\n",
       "      <td>0.999</td>\n",
       "      <td>0.965700</td>\n",
       "      <td>-0.973884</td>\n",
       "    </tr>\n",
       "  </tbody>\n",
       "</table>\n",
       "</div>"
      ],
      "text/plain": [
       "     Patrimônio      E(X)        Gx\n",
       "995       0.995  0.961833 -0.941502\n",
       "996       0.996  0.962800 -0.947700\n",
       "997       0.997  0.963767 -0.954726\n",
       "998       0.998  0.964733 -0.963050\n",
       "999       0.999  0.965700 -0.973884"
      ]
     },
     "execution_count": 3,
     "metadata": {},
     "output_type": "execute_result"
    }
   ],
   "source": [
    "retornos = [-1, -0.5, 51]\n",
    "\n",
    "# calculando retornos para diferentes tamanhos de posição\n",
    "media_aritmetica = lambda x: np.sum([p * (1 + (r * x)) for r, p in zip(retornos, probabilidades)]) - 1\n",
    "media_temporal = lambda x: np.prod([(1 + (r * x))**(p) for r, p in zip(retornos, probabilidades)]) - 1\n",
    "\n",
    "capital = np.arange(0, 1, 0.001)\n",
    "\n",
    "retornos_aritimeticos = [media_aritmetica(x) for x in capital]\n",
    "retornos_temporais = [media_temporal(x) for x in capital]\n",
    "\n",
    "data = [capital, retornos_aritimeticos, retornos_temporais]\n",
    "df_retornos = pd.DataFrame(np.transpose(data), columns=['Patrimônio', 'E(X)', 'Gx'])\n",
    "df_retornos.tail()"
   ]
  },
  {
   "cell_type": "code",
   "execution_count": 4,
   "metadata": {},
   "outputs": [
    {
     "data": {
      "image/png": "[encoded data removed]",
      "text/plain": [
       "<Figure size 432x288 with 1 Axes>"
      ]
     },
     "metadata": {
      "needs_background": "light"
     },
     "output_type": "display_data"
    }
   ],
   "source": [
    "df_retornos.set_index('Patrimônio').plot(\n",
    "    title='Relação entre retornos e tamanho da posição',\n",
    ")\n",
    "plt.xlabel('Posição'), plt.ylabel('Retorno')\n",
    "plt.show()"
   ]
  },
  {
   "cell_type": "markdown",
   "metadata": {},
   "source": [
    "<b>R: Na prática o retorno seria mais parecido com a média geométrica, sendo mais provável que a pessoa perca todo seu capital se apostar 100% dele."
   ]
  },
  {
   "cell_type": "markdown",
   "metadata": {},
   "source": [
    "<h2> c) \n",
    "    Qual é aproximadamente a proporção de M que deve ser apostada repetidamente de forma a\n",
    "    maximizar os lucros obtidos?"
   ]
  },
  {
   "cell_type": "code",
   "execution_count": 5,
   "metadata": {},
   "outputs": [
    {
     "data": {
      "text/html": [
       "<div>\n",
       "<style scoped>\n",
       "    .dataframe tbody tr th:only-of-type {\n",
       "        vertical-align: middle;\n",
       "    }\n",
       "\n",
       "    .dataframe tbody tr th {\n",
       "        vertical-align: top;\n",
       "    }\n",
       "\n",
       "    .dataframe thead th {\n",
       "        text-align: right;\n",
       "    }\n",
       "</style>\n",
       "<table border=\"1\" class=\"dataframe\">\n",
       "  <thead>\n",
       "    <tr style=\"text-align: right;\">\n",
       "      <th></th>\n",
       "      <th>Patrimônio</th>\n",
       "      <th>E(X)</th>\n",
       "      <th>Gx</th>\n",
       "    </tr>\n",
       "  </thead>\n",
       "  <tbody>\n",
       "    <tr>\n",
       "      <td>25</td>\n",
       "      <td>0.025</td>\n",
       "      <td>0.024167</td>\n",
       "      <td>0.00891</td>\n",
       "    </tr>\n",
       "  </tbody>\n",
       "</table>\n",
       "</div>"
      ],
      "text/plain": [
       "    Patrimônio      E(X)       Gx\n",
       "25       0.025  0.024167  0.00891"
      ]
     },
     "execution_count": 5,
     "metadata": {},
     "output_type": "execute_result"
    }
   ],
   "source": [
    "gx_max = df_retornos.set_index('Patrimônio')['Gx'].idxmax()\n",
    "df_retornos[df_retornos['Patrimônio'] == gx_max]"
   ]
  },
  {
   "cell_type": "markdown",
   "metadata": {},
   "source": [
    "<b> R: A proporção de M deveria ser aproximadamente 2.5%."
   ]
  },
  {
   "cell_type": "markdown",
   "metadata": {},
   "source": [
    "---"
   ]
  },
  {
   "cell_type": "markdown",
   "metadata": {},
   "source": [
    "# Questão 3\n",
    "<b>Considere os preços diários de todos os ativos disponibilizados em 2020 e, separadamente,\n",
    "em 2019 (do primeiro dia de 2019 ao primeiro dia de 2020). Calcule as correlações de cada ativo com o\n",
    "índice IBOV tanto em 2019 quanto em 2020."
   ]
  },
  {
   "cell_type": "code",
   "execution_count": 6,
   "metadata": {},
   "outputs": [],
   "source": [
    "# leitura dos dados\n",
    "df_prices = pd.read_csv('IBOV.csv', parse_dates=['Date'], index_col='Date')"
   ]
  },
  {
   "cell_type": "markdown",
   "metadata": {},
   "source": [
    "## a) Em 2019, quais as correlações média, mínima, máxima (e seus respectivos ativos)?"
   ]
  },
  {
   "cell_type": "code",
   "execution_count": 7,
   "metadata": {},
   "outputs": [
    {
     "name": "stdout",
     "output_type": "stream",
     "text": [
      "Mean : 0.6261\n",
      "Max  : 0.9998  (BOVA11)\n",
      "Min  : -0.6940 (BRKM5)\n"
     ]
    }
   ],
   "source": [
    "# seleciona periodo, extrai correlação com IBOV, e remove correlação de IBOV com ele mesmo\n",
    "corr_2019 = df_prices.loc['2019-01-01':'2020-01-02'].corr().loc['IBOV'].drop('IBOV')\n",
    "\n",
    "print('Mean : %.4f' % corr_2019.mean())\n",
    "print('Max  : %.4f  (%s)' % (corr_2019.max(), corr_2019.idxmax())) # Obtem indice do item de maior valor\n",
    "print('Min  : %.4f (%s)' % (corr_2019.min(), corr_2019.idxmin())) # Obtem indice do item de menor valor"
   ]
  },
  {
   "cell_type": "markdown",
   "metadata": {},
   "source": [
    "## b)  Em 2020, quais as correlações média, mínima, máxima (e seus respectivos ativos)?"
   ]
  },
  {
   "cell_type": "code",
   "execution_count": 8,
   "metadata": {},
   "outputs": [
    {
     "name": "stdout",
     "output_type": "stream",
     "text": [
      "Mean : 0.6261\n",
      "Max  : 0.9999 (BOVA11)\n",
      "Min  : 0.2413 (BTOW3)\n"
     ]
    }
   ],
   "source": [
    "corr_2020 = df_prices.loc['2020'].corr().loc['IBOV'].drop('IBOV')\n",
    "\n",
    "print('Mean : %.4f' % corr_2019.mean())\n",
    "print('Max  : %.4f (%s)' % (corr_2020.max(), corr_2020.idxmax()))\n",
    "print('Min  : %.4f (%s)' % (corr_2020.min(), corr_2020.idxmin()))"
   ]
  },
  {
   "cell_type": "markdown",
   "metadata": {},
   "source": [
    " <h2> c) Plote também dois histogramas com as correlaçõoes de todos os ativos com índice, um para 2019 e\n",
    "outro 2020. Ajuste o eixo X para mostrar de -1 a 1, e o eixo Y para que seja igual para os dois\n",
    "casos. Qual interpretação você tira dessa análise? </h2>"
   ]
  },
  {
   "cell_type": "code",
   "execution_count": 9,
   "metadata": {},
   "outputs": [
    {
     "data": {
      "image/png": "[encoded data removed]",
      "text/plain": [
       "<Figure size 720x360 with 2 Axes>"
      ]
     },
     "metadata": {
      "needs_background": "light"
     },
     "output_type": "display_data"
    }
   ],
   "source": [
    "plt.figure(figsize=(10, 5))\n",
    "\n",
    "plt.subplot(1, 2, 1)\n",
    "plt.hist(corr_2019, bins=50)\n",
    "plt.title('Stocks correlation with index (2019)')\n",
    "plt.xlabel('Corr.'), plt.ylabel('Freq.')\n",
    "plt.ylim(0, 12), plt.xlim(-1, 1)\n",
    "\n",
    "plt.subplot(1, 2, 2)\n",
    "plt.hist(corr_2020, bins=50)\n",
    "plt.title('Stocks correlation with index (2020)')\n",
    "plt.xlabel('Corr.'), plt.ylabel('Freq.')\n",
    "plt.ylim(0, 12)\n",
    "plt.xlim(-1, 1)\n",
    "plt.show()"
   ]
  },
  {
   "cell_type": "markdown",
   "metadata": {},
   "source": [
    "<b>Em 2019 a concentração de barras de frenquência à direita mostra que as ações possuem correlação predominantemente positiva com o índice, o que faz muito sentido tendo em vista que muitos desses ativos fizeram/fazem parte do índice. Entretanto é possível observar que há ativos que tiveram correlação negativa ou (quase) nula.\n",
    "\n",
    "<b>O mesmo aparenta estar acontecendo para 2020, mas de maneira ainda mais extrema, não há qualquer frequência abaixo do valor 0.25 até então, o que pode ser efeito da grande queda que a maioria dos ativos sofre devido à ao início da pandemia no Brasil juntamente com a retomada mais recente fazendo com que os preços subam juntos."
   ]
  },
  {
   "cell_type": "markdown",
   "metadata": {},
   "source": [
    "---"
   ]
  },
  {
   "cell_type": "markdown",
   "metadata": {},
   "source": [
    "# Questão 4\n",
    "<b>A partir dos dados diários da Bovespa disponibilizados, obtenha os 250 retornos mais recentes\n",
    "(simbolizando mais ou menos 1 ano em dias ´uteis). Considere um portfolio igualmente distribuído nos\n",
    "ativos BOVA11, PETR4, ABEV3, SUZB3 e ITSA4. Complete a tabela e discuta alguns\n",
    "aspectos:\n",
    "\n",
    "<b>• Ao calcular o VaR você verá que a resposta não é tão óbvia. Explique como você definiu o valor a\n",
    "ser utilizado.\n",
    "    \n",
    "<b>• O que os valores da curtose sugerem.\n",
    "    \n",
    "<b>• Como o portfolio se compara com o ativos individuais em relação ao risco esperado."
   ]
  },
  {
   "cell_type": "code",
   "execution_count": 10,
   "metadata": {},
   "outputs": [
    {
     "name": "stdout",
     "output_type": "stream",
     "text": [
      "(250, 72)\n"
     ]
    }
   ],
   "source": [
    "# calculo de retornos\n",
    "returns = df_prices.tail(251).pct_change().dropna()\n",
    "print(returns.shape) # verica dimensões do dataframe"
   ]
  },
  {
   "cell_type": "code",
   "execution_count": 11,
   "metadata": {},
   "outputs": [],
   "source": [
    "# Função de VaR histórico\n",
    "def value_at_risk(returns, alpha=0.05):\n",
    "    returns = sorted(returns)\n",
    "    var_idx = int(len(returns) * alpha) + 1\n",
    "    return returns[var_idx]"
   ]
  },
  {
   "cell_type": "markdown",
   "metadata": {},
   "source": [
    "<b> Tabela dos ativos:"
   ]
  },
  {
   "cell_type": "code",
   "execution_count": 12,
   "metadata": {},
   "outputs": [
    {
     "data": {
      "text/html": [
       "<div>\n",
       "<style scoped>\n",
       "    .dataframe tbody tr th:only-of-type {\n",
       "        vertical-align: middle;\n",
       "    }\n",
       "\n",
       "    .dataframe tbody tr th {\n",
       "        vertical-align: top;\n",
       "    }\n",
       "\n",
       "    .dataframe thead th {\n",
       "        text-align: right;\n",
       "    }\n",
       "</style>\n",
       "<table border=\"1\" class=\"dataframe\">\n",
       "  <thead>\n",
       "    <tr style=\"text-align: right;\">\n",
       "      <th></th>\n",
       "      <th>Expected Return</th>\n",
       "      <th>Std. deviation</th>\n",
       "      <th>Skewness</th>\n",
       "      <th>Kurtosis</th>\n",
       "      <th>VaR 5%</th>\n",
       "    </tr>\n",
       "    <tr>\n",
       "      <th>Asset</th>\n",
       "      <th></th>\n",
       "      <th></th>\n",
       "      <th></th>\n",
       "      <th></th>\n",
       "      <th></th>\n",
       "    </tr>\n",
       "  </thead>\n",
       "  <tbody>\n",
       "    <tr>\n",
       "      <td>BOVA11</td>\n",
       "      <td>0.000441</td>\n",
       "      <td>0.026977</td>\n",
       "      <td>-1.060548</td>\n",
       "      <td>10.585434</td>\n",
       "      <td>-0.036404</td>\n",
       "    </tr>\n",
       "    <tr>\n",
       "      <td>PETR4</td>\n",
       "      <td>0.000584</td>\n",
       "      <td>0.041429</td>\n",
       "      <td>-1.459206</td>\n",
       "      <td>16.718933</td>\n",
       "      <td>-0.037383</td>\n",
       "    </tr>\n",
       "    <tr>\n",
       "      <td>ABEV3</td>\n",
       "      <td>-0.001269</td>\n",
       "      <td>0.026817</td>\n",
       "      <td>-0.915121</td>\n",
       "      <td>7.570052</td>\n",
       "      <td>-0.039604</td>\n",
       "    </tr>\n",
       "    <tr>\n",
       "      <td>SUZB3</td>\n",
       "      <td>0.002291</td>\n",
       "      <td>0.034291</td>\n",
       "      <td>-0.084686</td>\n",
       "      <td>4.876933</td>\n",
       "      <td>-0.047619</td>\n",
       "    </tr>\n",
       "    <tr>\n",
       "      <td>ITSA4</td>\n",
       "      <td>-0.000191</td>\n",
       "      <td>0.026707</td>\n",
       "      <td>-0.347229</td>\n",
       "      <td>2.944303</td>\n",
       "      <td>-0.044706</td>\n",
       "    </tr>\n",
       "    <tr>\n",
       "      <td>Portfolio</td>\n",
       "      <td>0.000371</td>\n",
       "      <td>0.024660</td>\n",
       "      <td>-1.667955</td>\n",
       "      <td>12.842249</td>\n",
       "      <td>-0.027936</td>\n",
       "    </tr>\n",
       "  </tbody>\n",
       "</table>\n",
       "</div>"
      ],
      "text/plain": [
       "           Expected Return  Std. deviation  Skewness   Kurtosis    VaR 5%\n",
       "Asset                                                                    \n",
       "BOVA11            0.000441        0.026977 -1.060548  10.585434 -0.036404\n",
       "PETR4             0.000584        0.041429 -1.459206  16.718933 -0.037383\n",
       "ABEV3            -0.001269        0.026817 -0.915121   7.570052 -0.039604\n",
       "SUZB3             0.002291        0.034291 -0.084686   4.876933 -0.047619\n",
       "ITSA4            -0.000191        0.026707 -0.347229   2.944303 -0.044706\n",
       "Portfolio         0.000371        0.024660 -1.667955  12.842249 -0.027936"
      ]
     },
     "execution_count": 12,
     "metadata": {},
     "output_type": "execute_result"
    }
   ],
   "source": [
    "stocks = ['BOVA11', 'PETR4', 'ABEV3', 'SUZB3', 'ITSA4'] # ativos do portfolio\n",
    "returns['Portfolio'] = returns[stocks].mean(axis=1) # calcula média\n",
    "\n",
    "table = returns[stocks + ['Portfolio']].agg({\n",
    "    'mean', 'std', 'skew', 'kurtosis', value_at_risk\n",
    "}).T # calcula as métricas dos ativos e do portfolio e transpoe a tabela\n",
    "\n",
    "table = table[['mean', 'std', 'skew', 'kurtosis', 'value_at_risk']]\n",
    "table.columns = ['Expected Return', 'Std. deviation', 'Skewness', 'Kurtosis', 'VaR 5%'] # renomeia as colunas\n",
    "table.index.name = 'Asset' # renomeia indice\n",
    "table"
   ]
  },
  {
   "cell_type": "markdown",
   "metadata": {},
   "source": [
    "**Simulações de VaR 5% usando Monte Carlo:**"
   ]
  },
  {
   "cell_type": "code",
   "execution_count": 13,
   "metadata": {},
   "outputs": [
    {
     "name": "stdout",
     "output_type": "stream",
     "text": [
      "Historic VaR assuming normal distribution:\n"
     ]
    },
    {
     "data": {
      "text/plain": [
       "BOVA11       0.011397\n",
       "PETR4        0.001613\n",
       "ABEV3        0.005789\n",
       "SUZB3        0.021718\n",
       "ITSA4        0.011252\n",
       "Portfolio    0.010454\n",
       "dtype: float64"
      ]
     },
     "metadata": {},
     "output_type": "display_data"
    },
    {
     "name": "stdout",
     "output_type": "stream",
     "text": [
      "Monte Carlo, using Constant Expected Return model with epsilon ~ N(0, 1):\n"
     ]
    },
    {
     "data": {
      "text/plain": [
       "BOVA11       0.011397\n",
       "PETR4        0.001609\n",
       "ABEV3        0.005794\n",
       "SUZB3        0.021725\n",
       "ITSA4        0.011246\n",
       "Portfolio    0.010452\n",
       "dtype: float64"
      ]
     },
     "metadata": {},
     "output_type": "display_data"
    }
   ],
   "source": [
    "def var_sim(returns, alpha=0.05):\n",
    "    rmu, rsd = returns.mean(), returns.std()\n",
    "    simulations = returns[-1] * (1 + (rmu + rsd * np.random.normal(0, 1, 10000))) # Simplified\n",
    "\n",
    "    simulations = sorted(simulations)\n",
    "    var_idx  = int(len(simulations) * alpha) + 1\n",
    "    simulated_var_price = simulations[var_idx]\n",
    "    return simulated_var_price\n",
    "\n",
    "def var5_sim(returns):\n",
    "    rmu, rsd = returns.mean(), returns.std()\n",
    "    var_5 = norm.ppf(q=0.05, loc=rmu, scale=rsd)\n",
    "    return returns[-1]*(1+var_5)\n",
    "\n",
    "from scipy.stats import norm\n",
    "\n",
    "print('Historic VaR assuming normal distribution:')\n",
    "display(returns[stocks + ['Portfolio']].apply(var_sim))\n",
    "\n",
    "print('Monte Carlo, using Constant Expected Return model with epsilon ~ N(0, 1):')\n",
    "display(returns[stocks + ['Portfolio']].apply(var5_sim))"
   ]
  },
  {
   "cell_type": "markdown",
   "metadata": {},
   "source": [
    "## Conclusões:\n",
    "<b>• O VaR calculado é bem diferente de um VaR obtido numa simulação de Monte Carlo, isso se deve principalmente ao fato de que nas simulações assumimos uma distribuição normal, o que é não é a relidade desses retornos."
   ]
  },
  {
   "cell_type": "code",
   "execution_count": 14,
   "metadata": {},
   "outputs": [
    {
     "data": {
      "image/png": "[encoded data removed]",
      "text/plain": [
       "<Figure size 1080x432 with 1 Axes>"
      ]
     },
     "metadata": {},
     "output_type": "display_data"
    }
   ],
   "source": [
    "import seaborn as sns; sns.set()\n",
    "plt.figure(figsize=(15, 6))\n",
    "for col in stocks + ['Portfolio']:\n",
    "    sns.distplot(returns[col], hist=False, kde_kws={\"shade\": False}, bins=30, label=col)\n",
    "plt.legend()\n",
    "plt.show()"
   ]
  },
  {
   "cell_type": "markdown",
   "metadata": {},
   "source": [
    "<b>• Os Valores de Kurtose sugerem que as distribuições dos ativos são Leptocúrticas (com exceção de ITSA4), isto é possuem Curtose > 3, apresentando caudas muito pesadas que podem significar um grande número de *outliers*, principalmente em BOVA11, PETR4, ABEV3 e consequentemento o próprio Portfólio.\n",
    "    "
   ]
  },
  {
   "cell_type": "markdown",
   "metadata": {},
   "source": [
    "<b>• A métricas de risco do Portfólio refletem o efeito da diversificação, apesar de ser um portfólio igualmente ponderado, o risco esperado e VaR 5% foram menores do que qualquer outro ativo individualmente.\n",
    "    "
   ]
  },
  {
   "cell_type": "markdown",
   "metadata": {},
   "source": [
    "---"
   ]
  },
  {
   "cell_type": "code",
   "execution_count": 1,
   "metadata": {
    "hide_input": true
   },
   "outputs": [
    {
     "name": "stdout",
     "output_type": "stream",
     "text": [
      "[NbConvertApp] Converting notebook lista_1.ipynb to html\n",
      "[NbConvertApp] Writing 412477 bytes to lista_1.html\n"
     ]
    }
   ],
   "source": [
    "!jupyter nbconvert lista_1.ipynb --template toc2"
   ]
  }
 ],
 "metadata": {
  "hide_input": false,
  "kernelspec": {
   "display_name": "Python 3",
   "language": "python",
   "name": "python3"
  },
  "language_info": {
   "codemirror_mode": {
    "name": "ipython",
    "version": 3
   },
   "file_extension": ".py",
   "mimetype": "text/x-python",
   "name": "python",
   "nbconvert_exporter": "python",
   "pygments_lexer": "ipython3",
   "version": "3.6.9"
  },
  "toc": {
   "base_numbering": 1,
   "nav_menu": {},
   "number_sections": false,
   "sideBar": true,
   "skip_h1_title": false,
   "title_cell": "Table of Contents",
   "title_sidebar": "Contents",
   "toc_cell": false,
   "toc_position": {
    "height": "calc(100% - 180px)",
    "left": "10px",
    "top": "150px",
    "width": "370.594px"
   },
   "toc_section_display": true,
   "toc_window_display": false
  }
 },
 "nbformat": 4,
 "nbformat_minor": 4
}
